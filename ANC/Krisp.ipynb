{
 "cells": [
  {
   "cell_type": "code",
   "execution_count": null,
   "metadata": {},
   "outputs": [],
   "source": [
    "import requests"
   ]
  },
  {
   "cell_type": "code",
   "execution_count": null,
   "metadata": {},
   "outputs": [],
   "source": [
    "# Set the API endpoint URL\n",
    "url = 'https://api.krisp.ai/v1/call'\n",
    "\n",
    "# Set the API access token\n",
    "token = 'your_krisp_api_access_token_here'\n",
    "\n",
    "# Set the audio file path\n",
    "audio_file_path = 'path/to/your/audio/file.wav'\n",
    "\n",
    "# Set the desired settings for noise reduction\n",
    "settings = {\n",
    "    'voice_activity_detection': True,\n",
    "    'denoise_strength': 2,\n",
    "    'aggressiveness': 'high',\n",
    "    'noise_suppression': True,\n",
    "    'output_bitrate': 16000\n",
    "}"
   ]
  },
  {
   "cell_type": "code",
   "execution_count": null,
   "metadata": {},
   "outputs": [],
   "source": [
    "# Open the audio file and read the data\n",
    "with open(audio_file_path, 'rb') as audio_file:\n",
    "    audio_data = audio_file.read()"
   ]
  },
  {
   "cell_type": "code",
   "execution_count": null,
   "metadata": {},
   "outputs": [],
   "source": [
    "# Send the audio data and settings to the Krisp API\n",
    "response = requests.post(url, headers={'Authorization': 'Bearer {}'.format(token)}, json=settings, data=audio_data)"
   ]
  },
  {
   "cell_type": "code",
   "execution_count": null,
   "metadata": {},
   "outputs": [],
   "source": [
    "# Check if the request was successful\n",
    "if response.status_code == 200:\n",
    "    # Get the noise-reduced audio data from the response\n",
    "    noise_reduced_audio_data = response.content\n",
    "    \n",
    "    # Save the noise-reduced audio data to a new file\n",
    "    with open('path/to/your/noise_reduced/audio/file.wav', 'wb') as output_file:\n",
    "        output_file.write(noise_reduced_audio_data)\n",
    "else:\n",
    "    # Print the error message if the request failed\n",
    "    print('Error: {}'.format(response.json()['message']))"
   ]
  }
 ],
 "metadata": {
  "language_info": {
   "name": "python"
  },
  "orig_nbformat": 4
 },
 "nbformat": 4,
 "nbformat_minor": 2
}
