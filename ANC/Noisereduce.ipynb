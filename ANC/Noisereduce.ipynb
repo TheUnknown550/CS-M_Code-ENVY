{
 "cells": [
  {
   "cell_type": "code",
   "execution_count": 41,
   "metadata": {},
   "outputs": [],
   "source": [
    "import numpy as np\n",
    "import librosa\n",
    "import noisereduce as nr"
   ]
  },
  {
   "cell_type": "code",
   "execution_count": 42,
   "metadata": {},
   "outputs": [],
   "source": [
    "# Load audio files\n",
    "audio_file = 'heart_sound_with_noise.wav'\n",
    "audio, sr = librosa.load(audio_file, sr=None)\n",
    "noise_file = 'background_noise.wav'\n",
    "noise, sr = librosa.load(noise_file, sr=None)"
   ]
  },
  {
   "cell_type": "code",
   "execution_count": null,
   "metadata": {},
   "outputs": [],
   "source": []
  },
  {
   "cell_type": "code",
   "execution_count": 43,
   "metadata": {},
   "outputs": [],
   "source": [
    "# Apply ANC using noisereduce library\n",
    "reduced_noise = nr.reduce_noise(audio_clip=audio, noise_clip=noise, verbose=False)"
   ]
  },
  {
   "cell_type": "code",
   "execution_count": 60,
   "metadata": {},
   "outputs": [],
   "source": [
    "# Save noise-reduced audio to file\n",
    "librosa.output.write_wav('heart_sound_noise_reduced.wav', reduced_noise, sr)"
   ]
  },
  {
   "cell_type": "code",
   "execution_count": 62,
   "metadata": {},
   "outputs": [
    {
     "name": "stdout",
     "output_type": "stream",
     "text": [
      "SNR: 15.48 dB\n",
      "RMSE: 0.03\n"
     ]
    }
   ],
   "source": [
    "'''# Calculate the SNR and RMSE values\n",
    "signal_power = np.sum(Test**2)\n",
    "noise_power = np.sum((ANC)**2)\n",
    "snr = 10 * np.log10(signal_power / noise_power)\n",
    "print(\"SNR: {:.2f} dB\".format(snr))\n",
    "rmse = np.sqrt(np.mean((Test - ANC)**2))\n",
    "print(\"RMSE: {:.2f}\".format(rmse))'''"
   ]
  }
 ],
 "metadata": {
  "kernelspec": {
   "display_name": "Python 3",
   "language": "python",
   "name": "python3"
  },
  "language_info": {
   "codemirror_mode": {
    "name": "ipython",
    "version": 3
   },
   "file_extension": ".py",
   "mimetype": "text/x-python",
   "name": "python",
   "nbconvert_exporter": "python",
   "pygments_lexer": "ipython3",
   "version": "3.9.13"
  },
  "orig_nbformat": 4
 },
 "nbformat": 4,
 "nbformat_minor": 2
}
