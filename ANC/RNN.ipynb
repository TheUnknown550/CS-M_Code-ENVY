{
 "cells": [
  {
   "cell_type": "markdown",
   "metadata": {},
   "source": [
    "# Training The Model"
   ]
  },
  {
   "cell_type": "code",
   "execution_count": 2,
   "metadata": {},
   "outputs": [
    {
     "name": "stdout",
     "output_type": "stream",
     "text": [
      "No Problems\n"
     ]
    }
   ],
   "source": [
    "import numpy as np\n",
    "import librosa\n",
    "import tensorflow as tf\n",
    "from tensorflow.keras.models import Sequential, load_model\n",
    "from tensorflow.keras.layers import Dense, LSTM, TimeDistributed\n",
    "from scipy.io import wavfile"
   ]
  },
  {
   "cell_type": "code",
   "execution_count": null,
   "metadata": {},
   "outputs": [],
   "source": [
    "# Set file paths and parameters\n",
    "win_size = 1024\n",
    "hop_size = win_size // 2"
   ]
  },
  {
   "cell_type": "code",
   "execution_count": null,
   "metadata": {},
   "outputs": [],
   "source": [
    "# Initialize arrays to hold training data\n",
    "stft_mag_train = []\n",
    "stft_noise_mag_train = []\n",
    "stft_mag_target_train = []"
   ]
  },
  {
   "cell_type": "code",
   "execution_count": null,
   "metadata": {},
   "outputs": [],
   "source": [
    "def trim_wav( originalWavPath,Name):\n",
    "    sampleRate, waveData = wavfile.read( originalWavPath )\n",
    "    startSample = int( 0 * sampleRate )\n",
    "    endSample = int( 10 * sampleRate )\n",
    "    wavfile.write( Name, sampleRate, waveData[startSample:endSample])"
   ]
  },
  {
   "cell_type": "code",
   "execution_count": null,
   "metadata": {},
   "outputs": [],
   "source": [
    "# Creating the Datasets\n",
    "# Loop over audio files to add noise and extract features\n",
    "for FileNum in range (10):\n",
    "    for NoiseNum in range (10):\n",
    "        # Load the Audio File\n",
    "        audio_file = ''\n",
    "        trim_wav(audio_file,'audioFile.wav')\n",
    "        noise_file = ''\n",
    "        trim_wav(noise_file,'noiseFile.wav')\n",
    "        audio, sr = librosa.load('audioFile.wav', sr=None)\n",
    "        noise, sr = librosa.load('noiseFile.wav', sr=None)\n",
    "\n",
    "        # Add noise to audio\n",
    "        noisy_audio = audio + noise\n",
    "\n",
    "        # Extract features using Short-Time Fourier Transform (STFT)\n",
    "        stft_audio = librosa.stft(noisy_audio, n_fft=win_size, hop_length=hop_size)\n",
    "        stft_noise = librosa.stft(noise, n_fft=win_size, hop_length=hop_size)\n",
    "\n",
    "        # Separate magnitude and phase components\n",
    "        stft_mag = np.abs(stft_audio)\n",
    "        stft_phase = np.angle(stft_audio)\n",
    "        stft_noise_mag = np.abs(stft_noise)\n",
    "\n",
    "        # Reshape magnitude component to (n_frames, n_bins) format\n",
    "        mag_shape = stft_mag.shape\n",
    "        stft_mag_reshaped = np.reshape(stft_mag, (mag_shape[0], mag_shape[1], 1))\n",
    "        stft_noise_mag_reshaped = np.reshape(stft_noise_mag, (mag_shape[0], mag_shape[1], 1))\n",
    "\n",
    "        # Append processed features and target values to arrays\n",
    "        stft_mag_train.append(stft_mag_reshaped)\n",
    "        stft_noise_mag_train.append(stft_noise_mag_reshaped)\n",
    "        stft_mag_target_train.append(stft_mag_reshaped)"
   ]
  },
  {
   "cell_type": "code",
   "execution_count": null,
   "metadata": {},
   "outputs": [],
   "source": [
    "# Concatenate training data from all files\n",
    "stft_mag_train = np.concatenate(stft_mag_train, axis=0)\n",
    "stft_noise_mag_train = np.concatenate(stft_noise_mag_train, axis=0)\n",
    "stft_mag_target_train = np.concatenate(stft_mag_target_train, axis=0)"
   ]
  },
  {
   "cell_type": "code",
   "execution_count": null,
   "metadata": {},
   "outputs": [],
   "source": [
    "# Define RNN model with LSTM layers\n",
    "model = Sequential()\n",
    "model.add(LSTM(units=128, input_shape=(None, 1), return_sequences=True))\n",
    "model.add(LSTM(units=64, return_sequences=True))\n",
    "model.add(TimeDistributed(Dense(units=1, activation='linear')))\n",
    "\n",
    "# Compile model\n",
    "model.compile(loss='mse', optimizer='adam')\n",
    "\n",
    "# Train model on noisy audio and noise\n",
    "model.fit(np.concatenate((stft_mag_train, stft_noise_mag_train), axis=-1), stft_mag_target_train, epochs=50)"
   ]
  },
  {
   "cell_type": "markdown",
   "metadata": {},
   "source": [
    "# Testing The AI Model"
   ]
  },
  {
   "cell_type": "code",
   "execution_count": null,
   "metadata": {},
   "outputs": [],
   "source": [
    "Test_file = ''\n",
    "trim_wav(Test_file,'TestFile.wav')\n",
    "noise_file = ''\n",
    "trim_wav(noise_file,'noiseFile.wav')\n",
    "Test, sr = librosa.load('TestFile.wav', sr=None)\n",
    "noise, sr = librosa.load('noiseFile.wav', sr=None)"
   ]
  },
  {
   "cell_type": "code",
   "execution_count": null,
   "metadata": {},
   "outputs": [],
   "source": [
    "# Extract features using STFT\n",
    "stft_test_audio = librosa.stft(Test, n_fft=win_size, hop_length=hop_size)\n",
    "stft_noise_audio = librosa.stft(noise, n_fft=win_size, hop_length=hop_size)"
   ]
  },
  {
   "cell_type": "code",
   "execution_count": null,
   "metadata": {},
   "outputs": [],
   "source": [
    "# Separate magnitude and phase components\n",
    "stft_test_mag = np.abs(stft_test_audio)\n",
    "stft_test_phase = np.angle(stft_test_audio)\n",
    "stft_noise_mag = np.abs(stft_noise_audio)\n",
    "\n",
    "# Reshape magnitude component to (n_frames, n_bins) format\n",
    "test_mag_shape = stft_test_mag.shape\n",
    "stft_test_mag = np.reshape(stft_test_mag, (test_mag_shape[0], test_mag_shape[1], 1))\n",
    "noise_mag_shape = stft_noise_mag.shape\n",
    "stft_noise_mag = np.reshape(stft_noise_mag, (noise_mag_shape[0], noise_mag_shape[1], 1))"
   ]
  },
  {
   "cell_type": "code",
   "execution_count": null,
   "metadata": {},
   "outputs": [],
   "source": [
    "# Apply model to test audio\n",
    "stft_test_mag_pred = model.predict(np.concatenate((stft_test_mag, stft_noise_mag), axis=-1))\n",
    "stft_test_mag_pred = np.squeeze(stft_test_mag_pred, axis=-1)\n",
    "\n",
    "# Invert STFT to obtain noise-reduced audio\n",
    "stft_test_pred = stft_test_mag_pred * np.exp(1j * stft_test_phase)\n",
    "test_audio_pred = librosa.istft(stft_test_pred, hop_length=hop_size)"
   ]
  },
  {
   "cell_type": "code",
   "execution_count": null,
   "metadata": {},
   "outputs": [],
   "source": [
    "# Save noise-reduced audio to file\n",
    "librosa.output.write_wav('ANC.wav', test_audio_pred, sr)"
   ]
  }
 ],
 "metadata": {
  "kernelspec": {
   "display_name": "Python 3",
   "language": "python",
   "name": "python3"
  },
  "language_info": {
   "codemirror_mode": {
    "name": "ipython",
    "version": 3
   },
   "file_extension": ".py",
   "mimetype": "text/x-python",
   "name": "python",
   "nbconvert_exporter": "python",
   "pygments_lexer": "ipython3",
   "version": "3.9.13"
  },
  "orig_nbformat": 4
 },
 "nbformat": 4,
 "nbformat_minor": 2
}
